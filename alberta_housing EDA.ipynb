{
 "cells": [
  {
   "cell_type": "code",
   "execution_count": 30,
   "id": "833f1c37",
   "metadata": {},
   "outputs": [],
   "source": [
    "import pandas as pd\n",
    "import numpy as np\n",
    "import matplotlib.pyplot as plt\n",
    "from sklearn.model_selection import train_test_split\n",
    "from sklearn.linear_model import LinearRegression,Lasso,Ridge\n",
    "from sklearn.preprocessing import OneHotEncoder, StandardScaler\n",
    "from sklearn.pipeline import make_pipeline\n",
    "from sklearn.metrics import r2_score\n",
    "from sklearn.metrics import mean_absolute_error, mean_squared_error"
   ]
  },
  {
   "cell_type": "code",
   "execution_count": 2,
   "id": "d5b180ad",
   "metadata": {},
   "outputs": [],
   "source": [
    "data = pd.read_csv(\"housing.csv\")"
   ]
  },
  {
   "cell_type": "code",
   "execution_count": 3,
   "id": "80e0822c",
   "metadata": {},
   "outputs": [
    {
     "data": {
      "text/html": [
       "<div>\n",
       "<style scoped>\n",
       "    .dataframe tbody tr th:only-of-type {\n",
       "        vertical-align: middle;\n",
       "    }\n",
       "\n",
       "    .dataframe tbody tr th {\n",
       "        vertical-align: top;\n",
       "    }\n",
       "\n",
       "    .dataframe thead th {\n",
       "        text-align: right;\n",
       "    }\n",
       "</style>\n",
       "<table border=\"1\" class=\"dataframe\">\n",
       "  <thead>\n",
       "    <tr style=\"text-align: right;\">\n",
       "      <th></th>\n",
       "      <th>Address</th>\n",
       "      <th>Price</th>\n",
       "      <th>Description</th>\n",
       "      <th>Place</th>\n",
       "      <th>Beds</th>\n",
       "      <th>Bath</th>\n",
       "      <th>Sq.Ft</th>\n",
       "      <th>Website</th>\n",
       "    </tr>\n",
       "  </thead>\n",
       "  <tbody>\n",
       "    <tr>\n",
       "      <th>0</th>\n",
       "      <td>3704 42 St SW</td>\n",
       "      <td>979999</td>\n",
       "      <td>CA  AB T3E 3N1</td>\n",
       "      <td>Glenbrook</td>\n",
       "      <td>4</td>\n",
       "      <td>3.5</td>\n",
       "      <td>1813</td>\n",
       "      <td>Century 21 Bravo Realty</td>\n",
       "    </tr>\n",
       "    <tr>\n",
       "      <th>1</th>\n",
       "      <td>30 Mahogany Mews SE #415</td>\n",
       "      <td>439900</td>\n",
       "      <td>CA  AB T3M 3H4</td>\n",
       "      <td>Mahogany</td>\n",
       "      <td>2</td>\n",
       "      <td>2.0</td>\n",
       "      <td>1029</td>\n",
       "      <td>Century 21 Bamber Realty Ltd.</td>\n",
       "    </tr>\n",
       "    <tr>\n",
       "      <th>2</th>\n",
       "      <td>273 Auburn Shores Way SE</td>\n",
       "      <td>950000</td>\n",
       "      <td>CA  AB T3M 2E9</td>\n",
       "      <td>Auburn Bay</td>\n",
       "      <td>4</td>\n",
       "      <td>2.5</td>\n",
       "      <td>2545</td>\n",
       "      <td>Exp Realty</td>\n",
       "    </tr>\n",
       "    <tr>\n",
       "      <th>3</th>\n",
       "      <td>235 15 Ave SW #404</td>\n",
       "      <td>280000</td>\n",
       "      <td>CA  AB T2R 0P6</td>\n",
       "      <td>Beltline</td>\n",
       "      <td>2</td>\n",
       "      <td>2.0</td>\n",
       "      <td>898</td>\n",
       "      <td>RE/MAX Realty Professionals</td>\n",
       "    </tr>\n",
       "    <tr>\n",
       "      <th>4</th>\n",
       "      <td>24 Hemlock Crescent SW #2308</td>\n",
       "      <td>649000</td>\n",
       "      <td>CA  AB T3C 2Z1</td>\n",
       "      <td>Spruce Cliff</td>\n",
       "      <td>2</td>\n",
       "      <td>2.0</td>\n",
       "      <td>1482</td>\n",
       "      <td>Charles</td>\n",
       "    </tr>\n",
       "  </tbody>\n",
       "</table>\n",
       "</div>"
      ],
      "text/plain": [
       "                        Address   Price     Description         Place  Beds  \\\n",
       "0                 3704 42 St SW  979999  CA  AB T3E 3N1     Glenbrook     4   \n",
       "1      30 Mahogany Mews SE #415  439900  CA  AB T3M 3H4      Mahogany     2   \n",
       "2      273 Auburn Shores Way SE  950000  CA  AB T3M 2E9    Auburn Bay     4   \n",
       "3            235 15 Ave SW #404  280000  CA  AB T2R 0P6      Beltline     2   \n",
       "4  24 Hemlock Crescent SW #2308  649000  CA  AB T3C 2Z1  Spruce Cliff     2   \n",
       "\n",
       "   Bath  Sq.Ft                        Website  \n",
       "0   3.5   1813        Century 21 Bravo Realty  \n",
       "1   2.0   1029  Century 21 Bamber Realty Ltd.  \n",
       "2   2.5   2545                     Exp Realty  \n",
       "3   2.0    898    RE/MAX Realty Professionals  \n",
       "4   2.0   1482                        Charles  "
      ]
     },
     "execution_count": 3,
     "metadata": {},
     "output_type": "execute_result"
    }
   ],
   "source": [
    "data.head()"
   ]
  },
  {
   "cell_type": "markdown",
   "id": "a9d736ba",
   "metadata": {},
   "source": [
    "## Exploratory Data Analysis"
   ]
  },
  {
   "cell_type": "code",
   "execution_count": 4,
   "id": "a0ff3e65",
   "metadata": {},
   "outputs": [
    {
     "data": {
      "text/plain": [
       "(3360, 8)"
      ]
     },
     "execution_count": 4,
     "metadata": {},
     "output_type": "execute_result"
    }
   ],
   "source": [
    "data.shape"
   ]
  },
  {
   "cell_type": "code",
   "execution_count": 5,
   "id": "2a32a5f3",
   "metadata": {},
   "outputs": [
    {
     "name": "stdout",
     "output_type": "stream",
     "text": [
      "<class 'pandas.core.frame.DataFrame'>\n",
      "RangeIndex: 3360 entries, 0 to 3359\n",
      "Data columns (total 8 columns):\n",
      " #   Column       Non-Null Count  Dtype  \n",
      "---  ------       --------------  -----  \n",
      " 0   Address      3360 non-null   object \n",
      " 1   Price        3360 non-null   int64  \n",
      " 2   Description  3360 non-null   object \n",
      " 3   Place        3344 non-null   object \n",
      " 4   Beds         3360 non-null   int64  \n",
      " 5   Bath         3360 non-null   float64\n",
      " 6   Sq.Ft        3360 non-null   int64  \n",
      " 7   Website      3359 non-null   object \n",
      "dtypes: float64(1), int64(3), object(4)\n",
      "memory usage: 210.1+ KB\n"
     ]
    }
   ],
   "source": [
    "data.info()"
   ]
  },
  {
   "cell_type": "code",
   "execution_count": 6,
   "id": "4c144185",
   "metadata": {},
   "outputs": [
    {
     "name": "stdout",
     "output_type": "stream",
     "text": [
      "Address\n",
      "3704 42 St SW               1\n",
      "52 Treeline Manor SW        1\n",
      "625 12 Ave NE               1\n",
      "304 Rundlefield Rd NE       1\n",
      "1324 Falconridge Dr NE      1\n",
      "                           ..\n",
      "28 Cornerbrook Common NE    1\n",
      "345 Auburn Crest Way SE     1\n",
      "291 Seton Rd SE             1\n",
      "111 Tarawood Ln NE #206     1\n",
      "1709 32 St SW               1\n",
      "Name: count, Length: 3360, dtype: int64\n",
      "********************\n",
      "Price\n",
      "749900     33\n",
      "399900     31\n",
      "699900     31\n",
      "799900     31\n",
      "549900     30\n",
      "           ..\n",
      "658888      1\n",
      "354000      1\n",
      "1178000     1\n",
      "774300      1\n",
      "7988000     1\n",
      "Name: count, Length: 1122, dtype: int64\n",
      "********************\n",
      "Description\n",
      "CA  AB T2G 0B5    10\n",
      "CA  AB T2P 1J3    10\n",
      "CA  AB T2P 3R8     8\n",
      "CA  AB T2G 1E5     8\n",
      "CA  AB T2X 2B9     7\n",
      "                  ..\n",
      "CA  AB T2B 1J5     1\n",
      "CA  AB T3A 2P2     1\n",
      "CA  AB T3M 2R1     1\n",
      "CA  AB T2W 5Y1     1\n",
      "CA  AB T3C 1N6     1\n",
      "Name: count, Length: 2734, dtype: int64\n",
      "********************\n",
      "Place\n",
      "Beltline               155\n",
      "Saddle Ridge            72\n",
      "Legacy                  60\n",
      "Mahogany                56\n",
      "Cranston                54\n",
      "                      ... \n",
      "Signal Hill Green        1\n",
      "Pensacola Gardens        1\n",
      "Chesapeake               1\n",
      "Arbour Lake Landing      1\n",
      "Brighton Court           1\n",
      "Name: count, Length: 308, dtype: int64\n",
      "********************\n",
      "Beds\n",
      "2     853\n",
      "4     840\n",
      "3     819\n",
      "1     364\n",
      "5     335\n",
      "6     116\n",
      "7      24\n",
      "8       8\n",
      "10      1\n",
      "Name: count, dtype: int64\n",
      "********************\n",
      "Bath\n",
      "2.5    745\n",
      "2.0    741\n",
      "3.5    719\n",
      "1.0    545\n",
      "3.0    198\n",
      "1.5    185\n",
      "4.5    117\n",
      "4.0     62\n",
      "5.5     22\n",
      "5.0     10\n",
      "6.5      6\n",
      "6.0      5\n",
      "7.5      4\n",
      "8.0      1\n",
      "Name: count, dtype: int64\n",
      "********************\n",
      "Sq.Ft\n",
      "845     8\n",
      "837     8\n",
      "1086    7\n",
      "850     7\n",
      "1133    7\n",
      "       ..\n",
      "2427    1\n",
      "5008    1\n",
      "4867    1\n",
      "1928    1\n",
      "3544    1\n",
      "Name: count, Length: 1857, dtype: int64\n",
      "********************\n",
      "Website\n",
      "Cir Realty                             288\n",
      "Exp Realty                             247\n",
      "RE/MAX Real Estate (Central)           227\n",
      "Real Broker                            206\n",
      "RE/MAX House Of Real Estate            163\n",
      "                                      ... \n",
      "Listed by Danny Greene                   1\n",
      "G.M. Bain Real Estate Services Ltd.      1\n",
      "Park Real Estate Associates Inc.         1\n",
      "Listed by Navneet Dhillon                1\n",
      "E-Trinity Realty And Management Ltd      1\n",
      "Name: count, Length: 216, dtype: int64\n",
      "********************\n"
     ]
    }
   ],
   "source": [
    "for column in data.columns:\n",
    "    print(data[column].value_counts())\n",
    "    print(\"*\"*20)"
   ]
  },
  {
   "cell_type": "code",
   "execution_count": 7,
   "id": "3ea1a648",
   "metadata": {
    "scrolled": true
   },
   "outputs": [
    {
     "data": {
      "text/plain": [
       "Address         0\n",
       "Price           0\n",
       "Description     0\n",
       "Place          16\n",
       "Beds            0\n",
       "Bath            0\n",
       "Sq.Ft           0\n",
       "Website         1\n",
       "dtype: int64"
      ]
     },
     "execution_count": 7,
     "metadata": {},
     "output_type": "execute_result"
    }
   ],
   "source": [
    "data.isna().sum()"
   ]
  },
  {
   "cell_type": "code",
   "execution_count": 8,
   "id": "2bef75d5",
   "metadata": {},
   "outputs": [
    {
     "name": "stdout",
     "output_type": "stream",
     "text": [
      "data type: <class 'pandas.core.frame.DataFrame'>\n",
      "data shape: (3343, 8)\n"
     ]
    },
    {
     "data": {
      "text/plain": [
       "Address        0\n",
       "Price          0\n",
       "Description    0\n",
       "Place          0\n",
       "Beds           0\n",
       "Bath           0\n",
       "Sq.Ft          0\n",
       "Website        0\n",
       "dtype: int64"
      ]
     },
     "execution_count": 8,
     "metadata": {},
     "output_type": "execute_result"
    }
   ],
   "source": [
    "# Drop null values \n",
    "data.dropna(inplace = True)\n",
    "print(\"data type:\", type(data))\n",
    "print(\"data shape:\", data.shape)\n",
    "data.isna().sum()"
   ]
  },
  {
   "cell_type": "code",
   "execution_count": 9,
   "id": "fa736af7",
   "metadata": {},
   "outputs": [],
   "source": [
    "data.drop(columns = ['Address', 'Description', 'Website'], inplace=True)"
   ]
  },
  {
   "cell_type": "code",
   "execution_count": 11,
   "id": "182e9acf",
   "metadata": {},
   "outputs": [
    {
     "data": {
      "text/html": [
       "<div>\n",
       "<style scoped>\n",
       "    .dataframe tbody tr th:only-of-type {\n",
       "        vertical-align: middle;\n",
       "    }\n",
       "\n",
       "    .dataframe tbody tr th {\n",
       "        vertical-align: top;\n",
       "    }\n",
       "\n",
       "    .dataframe thead th {\n",
       "        text-align: right;\n",
       "    }\n",
       "</style>\n",
       "<table border=\"1\" class=\"dataframe\">\n",
       "  <thead>\n",
       "    <tr style=\"text-align: right;\">\n",
       "      <th></th>\n",
       "      <th>Price</th>\n",
       "      <th>Place</th>\n",
       "      <th>Beds</th>\n",
       "      <th>Bath</th>\n",
       "      <th>Sq.Ft</th>\n",
       "    </tr>\n",
       "  </thead>\n",
       "  <tbody>\n",
       "    <tr>\n",
       "      <th>0</th>\n",
       "      <td>979999</td>\n",
       "      <td>Glenbrook</td>\n",
       "      <td>4</td>\n",
       "      <td>3.5</td>\n",
       "      <td>1813</td>\n",
       "    </tr>\n",
       "    <tr>\n",
       "      <th>1</th>\n",
       "      <td>439900</td>\n",
       "      <td>Mahogany</td>\n",
       "      <td>2</td>\n",
       "      <td>2.0</td>\n",
       "      <td>1029</td>\n",
       "    </tr>\n",
       "    <tr>\n",
       "      <th>2</th>\n",
       "      <td>950000</td>\n",
       "      <td>Auburn Bay</td>\n",
       "      <td>4</td>\n",
       "      <td>2.5</td>\n",
       "      <td>2545</td>\n",
       "    </tr>\n",
       "    <tr>\n",
       "      <th>3</th>\n",
       "      <td>280000</td>\n",
       "      <td>Beltline</td>\n",
       "      <td>2</td>\n",
       "      <td>2.0</td>\n",
       "      <td>898</td>\n",
       "    </tr>\n",
       "    <tr>\n",
       "      <th>4</th>\n",
       "      <td>649000</td>\n",
       "      <td>Spruce Cliff</td>\n",
       "      <td>2</td>\n",
       "      <td>2.0</td>\n",
       "      <td>1482</td>\n",
       "    </tr>\n",
       "    <tr>\n",
       "      <th>...</th>\n",
       "      <td>...</td>\n",
       "      <td>...</td>\n",
       "      <td>...</td>\n",
       "      <td>...</td>\n",
       "      <td>...</td>\n",
       "    </tr>\n",
       "    <tr>\n",
       "      <th>3354</th>\n",
       "      <td>429900</td>\n",
       "      <td>Skyview Ranch</td>\n",
       "      <td>3</td>\n",
       "      <td>2.0</td>\n",
       "      <td>1275</td>\n",
       "    </tr>\n",
       "    <tr>\n",
       "      <th>3355</th>\n",
       "      <td>799000</td>\n",
       "      <td>Tuxedo Park</td>\n",
       "      <td>3</td>\n",
       "      <td>2.0</td>\n",
       "      <td>869</td>\n",
       "    </tr>\n",
       "    <tr>\n",
       "      <th>3357</th>\n",
       "      <td>595000</td>\n",
       "      <td>Sage Hill</td>\n",
       "      <td>3</td>\n",
       "      <td>2.5</td>\n",
       "      <td>1733</td>\n",
       "    </tr>\n",
       "    <tr>\n",
       "      <th>3358</th>\n",
       "      <td>7988000</td>\n",
       "      <td>Eau Claire</td>\n",
       "      <td>2</td>\n",
       "      <td>2.5</td>\n",
       "      <td>3544</td>\n",
       "    </tr>\n",
       "    <tr>\n",
       "      <th>3359</th>\n",
       "      <td>795000</td>\n",
       "      <td>Shaganappi</td>\n",
       "      <td>6</td>\n",
       "      <td>2.0</td>\n",
       "      <td>983</td>\n",
       "    </tr>\n",
       "  </tbody>\n",
       "</table>\n",
       "<p>3343 rows × 5 columns</p>\n",
       "</div>"
      ],
      "text/plain": [
       "        Price          Place  Beds  Bath  Sq.Ft\n",
       "0      979999      Glenbrook     4   3.5   1813\n",
       "1      439900       Mahogany     2   2.0   1029\n",
       "2      950000     Auburn Bay     4   2.5   2545\n",
       "3      280000       Beltline     2   2.0    898\n",
       "4      649000   Spruce Cliff     2   2.0   1482\n",
       "...       ...            ...   ...   ...    ...\n",
       "3354   429900  Skyview Ranch     3   2.0   1275\n",
       "3355   799000    Tuxedo Park     3   2.0    869\n",
       "3357   595000      Sage Hill     3   2.5   1733\n",
       "3358  7988000     Eau Claire     2   2.5   3544\n",
       "3359   795000     Shaganappi     6   2.0    983\n",
       "\n",
       "[3343 rows x 5 columns]"
      ]
     },
     "execution_count": 11,
     "metadata": {},
     "output_type": "execute_result"
    }
   ],
   "source": [
    "data"
   ]
  },
  {
   "cell_type": "code",
   "execution_count": 12,
   "id": "25177ad0",
   "metadata": {
    "scrolled": true
   },
   "outputs": [
    {
     "data": {
      "text/html": [
       "<div>\n",
       "<style scoped>\n",
       "    .dataframe tbody tr th:only-of-type {\n",
       "        vertical-align: middle;\n",
       "    }\n",
       "\n",
       "    .dataframe tbody tr th {\n",
       "        vertical-align: top;\n",
       "    }\n",
       "\n",
       "    .dataframe thead th {\n",
       "        text-align: right;\n",
       "    }\n",
       "</style>\n",
       "<table border=\"1\" class=\"dataframe\">\n",
       "  <thead>\n",
       "    <tr style=\"text-align: right;\">\n",
       "      <th></th>\n",
       "      <th>Price</th>\n",
       "      <th>Beds</th>\n",
       "      <th>Bath</th>\n",
       "      <th>Sq.Ft</th>\n",
       "    </tr>\n",
       "  </thead>\n",
       "  <tbody>\n",
       "    <tr>\n",
       "      <th>count</th>\n",
       "      <td>3343.0</td>\n",
       "      <td>3343.0</td>\n",
       "      <td>3343.0</td>\n",
       "      <td>3343.0</td>\n",
       "    </tr>\n",
       "    <tr>\n",
       "      <th>mean</th>\n",
       "      <td>746259.1</td>\n",
       "      <td>3.1</td>\n",
       "      <td>2.5</td>\n",
       "      <td>1554.5</td>\n",
       "    </tr>\n",
       "    <tr>\n",
       "      <th>std</th>\n",
       "      <td>631809.8</td>\n",
       "      <td>1.3</td>\n",
       "      <td>1.0</td>\n",
       "      <td>1049.6</td>\n",
       "    </tr>\n",
       "    <tr>\n",
       "      <th>min</th>\n",
       "      <td>141900.0</td>\n",
       "      <td>1.0</td>\n",
       "      <td>1.0</td>\n",
       "      <td>307.0</td>\n",
       "    </tr>\n",
       "    <tr>\n",
       "      <th>25%</th>\n",
       "      <td>398500.0</td>\n",
       "      <td>2.0</td>\n",
       "      <td>2.0</td>\n",
       "      <td>931.5</td>\n",
       "    </tr>\n",
       "    <tr>\n",
       "      <th>50%</th>\n",
       "      <td>619000.0</td>\n",
       "      <td>3.0</td>\n",
       "      <td>2.5</td>\n",
       "      <td>1349.0</td>\n",
       "    </tr>\n",
       "    <tr>\n",
       "      <th>75%</th>\n",
       "      <td>849900.0</td>\n",
       "      <td>4.0</td>\n",
       "      <td>3.5</td>\n",
       "      <td>2019.0</td>\n",
       "    </tr>\n",
       "    <tr>\n",
       "      <th>max</th>\n",
       "      <td>10000000.0</td>\n",
       "      <td>10.0</td>\n",
       "      <td>8.0</td>\n",
       "      <td>39654.0</td>\n",
       "    </tr>\n",
       "  </tbody>\n",
       "</table>\n",
       "</div>"
      ],
      "text/plain": [
       "            Price    Beds    Bath    Sq.Ft\n",
       "count      3343.0  3343.0  3343.0   3343.0\n",
       "mean     746259.1     3.1     2.5   1554.5\n",
       "std      631809.8     1.3     1.0   1049.6\n",
       "min      141900.0     1.0     1.0    307.0\n",
       "25%      398500.0     2.0     2.0    931.5\n",
       "50%      619000.0     3.0     2.5   1349.0\n",
       "75%      849900.0     4.0     3.5   2019.0\n",
       "max    10000000.0    10.0     8.0  39654.0"
      ]
     },
     "execution_count": 12,
     "metadata": {},
     "output_type": "execute_result"
    }
   ],
   "source": [
    "data.describe().round(1)"
   ]
  },
  {
   "cell_type": "code",
   "execution_count": 13,
   "id": "2d58d10f",
   "metadata": {},
   "outputs": [
    {
     "data": {
      "text/plain": [
       "count    3343.000000\n",
       "mean      520.025923\n",
       "std       255.522602\n",
       "min       147.666667\n",
       "25%       392.828571\n",
       "50%       484.750000\n",
       "75%       608.750000\n",
       "max      9913.500000\n",
       "dtype: float64"
      ]
     },
     "execution_count": 13,
     "metadata": {},
     "output_type": "execute_result"
    }
   ],
   "source": [
    "(data['Sq.Ft']/data['Beds']).describe()"
   ]
  },
  {
   "cell_type": "code",
   "execution_count": 14,
   "id": "1452aa8f",
   "metadata": {},
   "outputs": [
    {
     "data": {
      "text/html": [
       "<div>\n",
       "<style scoped>\n",
       "    .dataframe tbody tr th:only-of-type {\n",
       "        vertical-align: middle;\n",
       "    }\n",
       "\n",
       "    .dataframe tbody tr th {\n",
       "        vertical-align: top;\n",
       "    }\n",
       "\n",
       "    .dataframe thead th {\n",
       "        text-align: right;\n",
       "    }\n",
       "</style>\n",
       "<table border=\"1\" class=\"dataframe\">\n",
       "  <thead>\n",
       "    <tr style=\"text-align: right;\">\n",
       "      <th></th>\n",
       "      <th>Price</th>\n",
       "      <th>Beds</th>\n",
       "      <th>Bath</th>\n",
       "      <th>Sq.Ft</th>\n",
       "    </tr>\n",
       "  </thead>\n",
       "  <tbody>\n",
       "    <tr>\n",
       "      <th>count</th>\n",
       "      <td>3.024000e+03</td>\n",
       "      <td>3024.000000</td>\n",
       "      <td>3024.000000</td>\n",
       "      <td>3024.000000</td>\n",
       "    </tr>\n",
       "    <tr>\n",
       "      <th>mean</th>\n",
       "      <td>7.610049e+05</td>\n",
       "      <td>2.996362</td>\n",
       "      <td>2.497024</td>\n",
       "      <td>1608.902778</td>\n",
       "    </tr>\n",
       "    <tr>\n",
       "      <th>std</th>\n",
       "      <td>6.573162e+05</td>\n",
       "      <td>1.303569</td>\n",
       "      <td>1.044965</td>\n",
       "      <td>1085.989718</td>\n",
       "    </tr>\n",
       "    <tr>\n",
       "      <th>min</th>\n",
       "      <td>1.419000e+05</td>\n",
       "      <td>1.000000</td>\n",
       "      <td>1.000000</td>\n",
       "      <td>307.000000</td>\n",
       "    </tr>\n",
       "    <tr>\n",
       "      <th>25%</th>\n",
       "      <td>3.800000e+05</td>\n",
       "      <td>2.000000</td>\n",
       "      <td>2.000000</td>\n",
       "      <td>940.750000</td>\n",
       "    </tr>\n",
       "    <tr>\n",
       "      <th>50%</th>\n",
       "      <td>6.279000e+05</td>\n",
       "      <td>3.000000</td>\n",
       "      <td>2.500000</td>\n",
       "      <td>1443.500000</td>\n",
       "    </tr>\n",
       "    <tr>\n",
       "      <th>75%</th>\n",
       "      <td>8.750000e+05</td>\n",
       "      <td>4.000000</td>\n",
       "      <td>3.500000</td>\n",
       "      <td>2098.500000</td>\n",
       "    </tr>\n",
       "    <tr>\n",
       "      <th>max</th>\n",
       "      <td>1.000000e+07</td>\n",
       "      <td>8.000000</td>\n",
       "      <td>8.000000</td>\n",
       "      <td>39654.000000</td>\n",
       "    </tr>\n",
       "  </tbody>\n",
       "</table>\n",
       "</div>"
      ],
      "text/plain": [
       "              Price         Beds         Bath         Sq.Ft\n",
       "count  3.024000e+03  3024.000000  3024.000000   3024.000000\n",
       "mean   7.610049e+05     2.996362     2.497024   1608.902778\n",
       "std    6.573162e+05     1.303569     1.044965   1085.989718\n",
       "min    1.419000e+05     1.000000     1.000000    307.000000\n",
       "25%    3.800000e+05     2.000000     2.000000    940.750000\n",
       "50%    6.279000e+05     3.000000     2.500000   1443.500000\n",
       "75%    8.750000e+05     4.000000     3.500000   2098.500000\n",
       "max    1.000000e+07     8.000000     8.000000  39654.000000"
      ]
     },
     "execution_count": 14,
     "metadata": {},
     "output_type": "execute_result"
    }
   ],
   "source": [
    "data = data[((data['Sq.Ft']/data['Beds']) >= 300)]\n",
    "data.describe()"
   ]
  },
  {
   "cell_type": "code",
   "execution_count": 15,
   "id": "8178ac32",
   "metadata": {},
   "outputs": [
    {
     "name": "stdout",
     "output_type": "stream",
     "text": [
      "<class 'pandas.core.frame.DataFrame'>\n",
      "Index: 3024 entries, 0 to 3358\n",
      "Data columns (total 5 columns):\n",
      " #   Column  Non-Null Count  Dtype  \n",
      "---  ------  --------------  -----  \n",
      " 0   Price   3024 non-null   int64  \n",
      " 1   Place   3024 non-null   object \n",
      " 2   Beds    3024 non-null   int64  \n",
      " 3   Bath    3024 non-null   float64\n",
      " 4   Sq.Ft   3024 non-null   int64  \n",
      "dtypes: float64(1), int64(3), object(1)\n",
      "memory usage: 141.8+ KB\n"
     ]
    }
   ],
   "source": [
    "data.info()"
   ]
  },
  {
   "cell_type": "code",
   "execution_count": 16,
   "id": "6ba21bea",
   "metadata": {},
   "outputs": [
    {
     "data": {
      "text/plain": [
       "(299,)"
      ]
     },
     "execution_count": 16,
     "metadata": {},
     "output_type": "execute_result"
    }
   ],
   "source": [
    "#Get value counts of \"Place\" column\n",
    "\n",
    "place_count = data[\"Place\"].value_counts()\n",
    "top30_neiborhoods= place_count.head(30)\n",
    "place_count.shape"
   ]
  },
  {
   "cell_type": "code",
   "execution_count": 17,
   "id": "ca3cd0ed",
   "metadata": {},
   "outputs": [],
   "source": [
    "place_count.head()\n",
    "place_count.to_csv('place_count.csv',index=False)\n",
    "top30_neiborhoods.to_csv('top30_neiborhoods.csv',index=False)"
   ]
  },
  {
   "cell_type": "code",
   "execution_count": 18,
   "id": "4b594f45",
   "metadata": {},
   "outputs": [
    {
     "data": {
      "image/png": "[encoded data removed]",
      "text/plain": [
       "<Figure size 640x480 with 1 Axes>"
      ]
     },
     "metadata": {},
     "output_type": "display_data"
    }
   ],
   "source": [
    "top30_neiborhoods.plot(kind='bar', legend=False)\n",
    "\n",
    "# Adding x-axis label\n",
    "plt.xlabel(\"City\")\n",
    "\n",
    "# Adding y-axis label\n",
    "plt.ylabel(\"Number of houses for sale\")\n",
    "\n",
    "# Adding title\n",
    "plt.title(\"Top 30 cities with the highest number of houses for sale\")\n",
    "\n",
    "# Showing the plot\n",
    "plt.show()"
   ]
  },
  {
   "cell_type": "code",
   "execution_count": 19,
   "id": "0e7b96df",
   "metadata": {},
   "outputs": [
    {
     "name": "stdout",
     "output_type": "stream",
     "text": [
      "mean_price_by_place type: <class 'pandas.core.series.Series'>\n",
      "mean_price_by_place shape: (299,)\n"
     ]
    },
    {
     "data": {
      "text/plain": [
       "Place\n",
       "Bel-Aire       3950000.0\n",
       "Eagle Ridge    3695750.0\n",
       "Britannia      2966816.7\n",
       "Elboya         2835400.0\n",
       "Mayfair        2725000.0\n",
       "Name: Price, dtype: float64"
      ]
     },
     "execution_count": 19,
     "metadata": {},
     "output_type": "execute_result"
    }
   ],
   "source": [
    "# Declare variable `mean_price_by_place`\n",
    "mean_price_by_place = data.groupby(\"Place\")[\"Price\"].mean().sort_values(ascending = False).round(1)\n",
    "mean_price_by_place_top30 = mean_price_by_place.head(30)\n",
    "\n",
    "# Print object type, shape, and head\n",
    "print(\"mean_price_by_place type:\", type(mean_price_by_place))\n",
    "print(\"mean_price_by_place shape:\", mean_price_by_place.shape)\n",
    "mean_price_by_place.head()"
   ]
  },
  {
   "cell_type": "code",
   "execution_count": 20,
   "id": "0aa0aa07",
   "metadata": {},
   "outputs": [
    {
     "data": {
      "image/png": "[encoded data removed]",
      "text/plain": [
       "<Figure size 640x480 with 1 Axes>"
      ]
     },
     "metadata": {},
     "output_type": "display_data"
    }
   ],
   "source": [
    "# Finding the Top 30 Most Expensive Neighborhoods in Canada.\n",
    "mean_price_by_place_top30.plot(\n",
    "    kind = \"bar\",\n",
    "    xlabel = \"City\",\n",
    "    ylabel = \"Mean Price\",\n",
    "    title = \"30 Most Expensive Cities with Mean House Price\"\n",
    ");"
   ]
  },
  {
   "cell_type": "code",
   "execution_count": 21,
   "id": "ff63bab1",
   "metadata": {
    "scrolled": true
   },
   "outputs": [
    {
     "data": {
      "text/plain": [
       "(3024, 5)"
      ]
     },
     "execution_count": 21,
     "metadata": {},
     "output_type": "execute_result"
    }
   ],
   "source": [
    "data.shape"
   ]
  },
  {
   "cell_type": "markdown",
   "id": "95eece38",
   "metadata": {},
   "source": [
    "## Predictive Analysis"
   ]
  },
  {
   "cell_type": "code",
   "execution_count": 22,
   "id": "40e3bcd9",
   "metadata": {},
   "outputs": [
    {
     "data": {
      "text/html": [
       "<div>\n",
       "<style scoped>\n",
       "    .dataframe tbody tr th:only-of-type {\n",
       "        vertical-align: middle;\n",
       "    }\n",
       "\n",
       "    .dataframe tbody tr th {\n",
       "        vertical-align: top;\n",
       "    }\n",
       "\n",
       "    .dataframe thead th {\n",
       "        text-align: right;\n",
       "    }\n",
       "</style>\n",
       "<table border=\"1\" class=\"dataframe\">\n",
       "  <thead>\n",
       "    <tr style=\"text-align: right;\">\n",
       "      <th></th>\n",
       "      <th>Price</th>\n",
       "      <th>Place</th>\n",
       "      <th>Beds</th>\n",
       "      <th>Bath</th>\n",
       "      <th>Sq.Ft</th>\n",
       "    </tr>\n",
       "  </thead>\n",
       "  <tbody>\n",
       "    <tr>\n",
       "      <th>0</th>\n",
       "      <td>979999</td>\n",
       "      <td>Glenbrook</td>\n",
       "      <td>4</td>\n",
       "      <td>3.5</td>\n",
       "      <td>1813</td>\n",
       "    </tr>\n",
       "    <tr>\n",
       "      <th>1</th>\n",
       "      <td>439900</td>\n",
       "      <td>Mahogany</td>\n",
       "      <td>2</td>\n",
       "      <td>2.0</td>\n",
       "      <td>1029</td>\n",
       "    </tr>\n",
       "    <tr>\n",
       "      <th>2</th>\n",
       "      <td>950000</td>\n",
       "      <td>Auburn Bay</td>\n",
       "      <td>4</td>\n",
       "      <td>2.5</td>\n",
       "      <td>2545</td>\n",
       "    </tr>\n",
       "    <tr>\n",
       "      <th>3</th>\n",
       "      <td>280000</td>\n",
       "      <td>Beltline</td>\n",
       "      <td>2</td>\n",
       "      <td>2.0</td>\n",
       "      <td>898</td>\n",
       "    </tr>\n",
       "    <tr>\n",
       "      <th>4</th>\n",
       "      <td>649000</td>\n",
       "      <td>Spruce Cliff</td>\n",
       "      <td>2</td>\n",
       "      <td>2.0</td>\n",
       "      <td>1482</td>\n",
       "    </tr>\n",
       "    <tr>\n",
       "      <th>...</th>\n",
       "      <td>...</td>\n",
       "      <td>...</td>\n",
       "      <td>...</td>\n",
       "      <td>...</td>\n",
       "      <td>...</td>\n",
       "    </tr>\n",
       "    <tr>\n",
       "      <th>3352</th>\n",
       "      <td>258000</td>\n",
       "      <td>Beltline</td>\n",
       "      <td>1</td>\n",
       "      <td>1.0</td>\n",
       "      <td>400</td>\n",
       "    </tr>\n",
       "    <tr>\n",
       "      <th>3353</th>\n",
       "      <td>319900</td>\n",
       "      <td>Skyview Ranch</td>\n",
       "      <td>2</td>\n",
       "      <td>2.0</td>\n",
       "      <td>837</td>\n",
       "    </tr>\n",
       "    <tr>\n",
       "      <th>3354</th>\n",
       "      <td>429900</td>\n",
       "      <td>Skyview Ranch</td>\n",
       "      <td>3</td>\n",
       "      <td>2.0</td>\n",
       "      <td>1275</td>\n",
       "    </tr>\n",
       "    <tr>\n",
       "      <th>3357</th>\n",
       "      <td>595000</td>\n",
       "      <td>Sage Hill</td>\n",
       "      <td>3</td>\n",
       "      <td>2.5</td>\n",
       "      <td>1733</td>\n",
       "    </tr>\n",
       "    <tr>\n",
       "      <th>3358</th>\n",
       "      <td>7988000</td>\n",
       "      <td>Eau Claire</td>\n",
       "      <td>2</td>\n",
       "      <td>2.5</td>\n",
       "      <td>3544</td>\n",
       "    </tr>\n",
       "  </tbody>\n",
       "</table>\n",
       "<p>3024 rows × 5 columns</p>\n",
       "</div>"
      ],
      "text/plain": [
       "        Price          Place  Beds  Bath  Sq.Ft\n",
       "0      979999      Glenbrook     4   3.5   1813\n",
       "1      439900       Mahogany     2   2.0   1029\n",
       "2      950000     Auburn Bay     4   2.5   2545\n",
       "3      280000       Beltline     2   2.0    898\n",
       "4      649000   Spruce Cliff     2   2.0   1482\n",
       "...       ...            ...   ...   ...    ...\n",
       "3352   258000       Beltline     1   1.0    400\n",
       "3353   319900  Skyview Ranch     2   2.0    837\n",
       "3354   429900  Skyview Ranch     3   2.0   1275\n",
       "3357   595000      Sage Hill     3   2.5   1733\n",
       "3358  7988000     Eau Claire     2   2.5   3544\n",
       "\n",
       "[3024 rows x 5 columns]"
      ]
     },
     "execution_count": 22,
     "metadata": {},
     "output_type": "execute_result"
    }
   ],
   "source": [
    "data"
   ]
  },
  {
   "cell_type": "code",
   "execution_count": 24,
   "id": "45404119",
   "metadata": {
    "scrolled": true
   },
   "outputs": [
    {
     "data": {
      "text/plain": [
       "Place\n",
       "Beltline                 155\n",
       "Saddle Ridge              68\n",
       "Legacy                    59\n",
       "Mahogany                  55\n",
       "Cranston                  52\n",
       "Skyview Ranch             45\n",
       "Eau Claire                43\n",
       "Seton                     42\n",
       "Mission                   40\n",
       "Downtown East Village     38\n",
       "Renfrew                   37\n",
       "Bridgeland/Riverside      37\n",
       "Altadore                  37\n",
       "Bankview                  36\n",
       "Killarney/Glengarry       35\n",
       "Sage Hill                 35\n",
       "Bowness                   34\n",
       "Cornerstone               33\n",
       "Hillhurst                 32\n",
       "Panorama Hills            30\n",
       "Name: count, dtype: int64"
      ]
     },
     "execution_count": 24,
     "metadata": {},
     "output_type": "execute_result"
    }
   ],
   "source": [
    "data.Place.value_counts().sort_values(ascending=False).head(20)"
   ]
  },
  {
   "cell_type": "markdown",
   "id": "0e69fc71",
   "metadata": {},
   "source": [
    "### Converting variables - categorical to numerical for Model build"
   ]
  },
  {
   "cell_type": "code",
   "execution_count": 23,
   "id": "2d89aa09",
   "metadata": {},
   "outputs": [
    {
     "data": {
      "text/html": [
       "<div>\n",
       "<style scoped>\n",
       "    .dataframe tbody tr th:only-of-type {\n",
       "        vertical-align: middle;\n",
       "    }\n",
       "\n",
       "    .dataframe tbody tr th {\n",
       "        vertical-align: top;\n",
       "    }\n",
       "\n",
       "    .dataframe thead th {\n",
       "        text-align: right;\n",
       "    }\n",
       "</style>\n",
       "<table border=\"1\" class=\"dataframe\">\n",
       "  <thead>\n",
       "    <tr style=\"text-align: right;\">\n",
       "      <th></th>\n",
       "      <th>Price</th>\n",
       "      <th>Beds</th>\n",
       "      <th>Bath</th>\n",
       "      <th>Sq.Ft</th>\n",
       "      <th>Place_0</th>\n",
       "      <th>Place_1</th>\n",
       "      <th>Place_2</th>\n",
       "      <th>Place_3</th>\n",
       "      <th>Place_4</th>\n",
       "      <th>Place_5</th>\n",
       "      <th>Place_6</th>\n",
       "      <th>Place_7</th>\n",
       "      <th>Place_8</th>\n",
       "    </tr>\n",
       "  </thead>\n",
       "  <tbody>\n",
       "    <tr>\n",
       "      <th>0</th>\n",
       "      <td>979999</td>\n",
       "      <td>4</td>\n",
       "      <td>3.5</td>\n",
       "      <td>1813</td>\n",
       "      <td>0</td>\n",
       "      <td>0</td>\n",
       "      <td>0</td>\n",
       "      <td>0</td>\n",
       "      <td>0</td>\n",
       "      <td>0</td>\n",
       "      <td>0</td>\n",
       "      <td>0</td>\n",
       "      <td>1</td>\n",
       "    </tr>\n",
       "    <tr>\n",
       "      <th>1</th>\n",
       "      <td>439900</td>\n",
       "      <td>2</td>\n",
       "      <td>2.0</td>\n",
       "      <td>1029</td>\n",
       "      <td>0</td>\n",
       "      <td>0</td>\n",
       "      <td>0</td>\n",
       "      <td>0</td>\n",
       "      <td>0</td>\n",
       "      <td>0</td>\n",
       "      <td>0</td>\n",
       "      <td>1</td>\n",
       "      <td>0</td>\n",
       "    </tr>\n",
       "    <tr>\n",
       "      <th>2</th>\n",
       "      <td>950000</td>\n",
       "      <td>4</td>\n",
       "      <td>2.5</td>\n",
       "      <td>2545</td>\n",
       "      <td>0</td>\n",
       "      <td>0</td>\n",
       "      <td>0</td>\n",
       "      <td>0</td>\n",
       "      <td>0</td>\n",
       "      <td>0</td>\n",
       "      <td>0</td>\n",
       "      <td>1</td>\n",
       "      <td>1</td>\n",
       "    </tr>\n",
       "    <tr>\n",
       "      <th>3</th>\n",
       "      <td>280000</td>\n",
       "      <td>2</td>\n",
       "      <td>2.0</td>\n",
       "      <td>898</td>\n",
       "      <td>0</td>\n",
       "      <td>0</td>\n",
       "      <td>0</td>\n",
       "      <td>0</td>\n",
       "      <td>0</td>\n",
       "      <td>0</td>\n",
       "      <td>1</td>\n",
       "      <td>0</td>\n",
       "      <td>0</td>\n",
       "    </tr>\n",
       "    <tr>\n",
       "      <th>4</th>\n",
       "      <td>649000</td>\n",
       "      <td>2</td>\n",
       "      <td>2.0</td>\n",
       "      <td>1482</td>\n",
       "      <td>0</td>\n",
       "      <td>0</td>\n",
       "      <td>0</td>\n",
       "      <td>0</td>\n",
       "      <td>0</td>\n",
       "      <td>0</td>\n",
       "      <td>1</td>\n",
       "      <td>0</td>\n",
       "      <td>1</td>\n",
       "    </tr>\n",
       "    <tr>\n",
       "      <th>...</th>\n",
       "      <td>...</td>\n",
       "      <td>...</td>\n",
       "      <td>...</td>\n",
       "      <td>...</td>\n",
       "      <td>...</td>\n",
       "      <td>...</td>\n",
       "      <td>...</td>\n",
       "      <td>...</td>\n",
       "      <td>...</td>\n",
       "      <td>...</td>\n",
       "      <td>...</td>\n",
       "      <td>...</td>\n",
       "      <td>...</td>\n",
       "    </tr>\n",
       "    <tr>\n",
       "      <th>3352</th>\n",
       "      <td>258000</td>\n",
       "      <td>1</td>\n",
       "      <td>1.0</td>\n",
       "      <td>400</td>\n",
       "      <td>0</td>\n",
       "      <td>0</td>\n",
       "      <td>0</td>\n",
       "      <td>0</td>\n",
       "      <td>0</td>\n",
       "      <td>0</td>\n",
       "      <td>1</td>\n",
       "      <td>0</td>\n",
       "      <td>0</td>\n",
       "    </tr>\n",
       "    <tr>\n",
       "      <th>3353</th>\n",
       "      <td>319900</td>\n",
       "      <td>2</td>\n",
       "      <td>2.0</td>\n",
       "      <td>837</td>\n",
       "      <td>0</td>\n",
       "      <td>0</td>\n",
       "      <td>0</td>\n",
       "      <td>0</td>\n",
       "      <td>1</td>\n",
       "      <td>0</td>\n",
       "      <td>1</td>\n",
       "      <td>1</td>\n",
       "      <td>1</td>\n",
       "    </tr>\n",
       "    <tr>\n",
       "      <th>3354</th>\n",
       "      <td>429900</td>\n",
       "      <td>3</td>\n",
       "      <td>2.0</td>\n",
       "      <td>1275</td>\n",
       "      <td>0</td>\n",
       "      <td>0</td>\n",
       "      <td>0</td>\n",
       "      <td>0</td>\n",
       "      <td>1</td>\n",
       "      <td>0</td>\n",
       "      <td>1</td>\n",
       "      <td>1</td>\n",
       "      <td>1</td>\n",
       "    </tr>\n",
       "    <tr>\n",
       "      <th>3357</th>\n",
       "      <td>595000</td>\n",
       "      <td>3</td>\n",
       "      <td>2.5</td>\n",
       "      <td>1733</td>\n",
       "      <td>0</td>\n",
       "      <td>0</td>\n",
       "      <td>0</td>\n",
       "      <td>1</td>\n",
       "      <td>1</td>\n",
       "      <td>0</td>\n",
       "      <td>0</td>\n",
       "      <td>1</td>\n",
       "      <td>1</td>\n",
       "    </tr>\n",
       "    <tr>\n",
       "      <th>3358</th>\n",
       "      <td>7988000</td>\n",
       "      <td>2</td>\n",
       "      <td>2.5</td>\n",
       "      <td>3544</td>\n",
       "      <td>0</td>\n",
       "      <td>1</td>\n",
       "      <td>0</td>\n",
       "      <td>0</td>\n",
       "      <td>0</td>\n",
       "      <td>1</td>\n",
       "      <td>1</td>\n",
       "      <td>0</td>\n",
       "      <td>1</td>\n",
       "    </tr>\n",
       "  </tbody>\n",
       "</table>\n",
       "<p>3024 rows × 13 columns</p>\n",
       "</div>"
      ],
      "text/plain": [
       "        Price  Beds  Bath  Sq.Ft  Place_0  Place_1  Place_2  Place_3  Place_4  \\\n",
       "0      979999     4   3.5   1813        0        0        0        0        0   \n",
       "1      439900     2   2.0   1029        0        0        0        0        0   \n",
       "2      950000     4   2.5   2545        0        0        0        0        0   \n",
       "3      280000     2   2.0    898        0        0        0        0        0   \n",
       "4      649000     2   2.0   1482        0        0        0        0        0   \n",
       "...       ...   ...   ...    ...      ...      ...      ...      ...      ...   \n",
       "3352   258000     1   1.0    400        0        0        0        0        0   \n",
       "3353   319900     2   2.0    837        0        0        0        0        1   \n",
       "3354   429900     3   2.0   1275        0        0        0        0        1   \n",
       "3357   595000     3   2.5   1733        0        0        0        1        1   \n",
       "3358  7988000     2   2.5   3544        0        1        0        0        0   \n",
       "\n",
       "      Place_5  Place_6  Place_7  Place_8  \n",
       "0           0        0        0        1  \n",
       "1           0        0        1        0  \n",
       "2           0        0        1        1  \n",
       "3           0        1        0        0  \n",
       "4           0        1        0        1  \n",
       "...       ...      ...      ...      ...  \n",
       "3352        0        1        0        0  \n",
       "3353        0        1        1        1  \n",
       "3354        0        1        1        1  \n",
       "3357        0        0        1        1  \n",
       "3358        1        1        0        1  \n",
       "\n",
       "[3024 rows x 13 columns]"
      ]
     },
     "execution_count": 23,
     "metadata": {},
     "output_type": "execute_result"
    }
   ],
   "source": [
    "import category_encoders as ce\n",
    "# Instantiate the encoder\n",
    "encoder = ce.BinaryEncoder(cols=['Place'])\n",
    "# Fit and transform the data\n",
    "df_binary = encoder.fit_transform(data[['Place']])\n",
    "# Concatenate the encoded DataFrame with the original DataFrame\n",
    "data_encoded = pd.concat([data, df_binary], axis=1)\n",
    "# Drop the original 'address' column if needed\n",
    "data_encoded.drop(columns = ['Place'], axis=1, inplace=True)\n",
    "data_encoded"
   ]
  },
  {
   "cell_type": "code",
   "execution_count": 26,
   "id": "3f914af2",
   "metadata": {},
   "outputs": [
    {
     "data": {
      "text/html": [
       "<div>\n",
       "<style scoped>\n",
       "    .dataframe tbody tr th:only-of-type {\n",
       "        vertical-align: middle;\n",
       "    }\n",
       "\n",
       "    .dataframe tbody tr th {\n",
       "        vertical-align: top;\n",
       "    }\n",
       "\n",
       "    .dataframe thead th {\n",
       "        text-align: right;\n",
       "    }\n",
       "</style>\n",
       "<table border=\"1\" class=\"dataframe\">\n",
       "  <thead>\n",
       "    <tr style=\"text-align: right;\">\n",
       "      <th></th>\n",
       "      <th>Beds</th>\n",
       "      <th>Bath</th>\n",
       "      <th>Sq.Ft</th>\n",
       "      <th>Place_0</th>\n",
       "      <th>Place_1</th>\n",
       "      <th>Place_2</th>\n",
       "      <th>Place_3</th>\n",
       "      <th>Place_4</th>\n",
       "      <th>Place_5</th>\n",
       "      <th>Place_6</th>\n",
       "      <th>Place_7</th>\n",
       "      <th>Place_8</th>\n",
       "    </tr>\n",
       "  </thead>\n",
       "  <tbody>\n",
       "    <tr>\n",
       "      <th>0</th>\n",
       "      <td>4</td>\n",
       "      <td>3.5</td>\n",
       "      <td>1813</td>\n",
       "      <td>0</td>\n",
       "      <td>0</td>\n",
       "      <td>0</td>\n",
       "      <td>0</td>\n",
       "      <td>0</td>\n",
       "      <td>0</td>\n",
       "      <td>0</td>\n",
       "      <td>0</td>\n",
       "      <td>1</td>\n",
       "    </tr>\n",
       "    <tr>\n",
       "      <th>1</th>\n",
       "      <td>2</td>\n",
       "      <td>2.0</td>\n",
       "      <td>1029</td>\n",
       "      <td>0</td>\n",
       "      <td>0</td>\n",
       "      <td>0</td>\n",
       "      <td>0</td>\n",
       "      <td>0</td>\n",
       "      <td>0</td>\n",
       "      <td>0</td>\n",
       "      <td>1</td>\n",
       "      <td>0</td>\n",
       "    </tr>\n",
       "    <tr>\n",
       "      <th>2</th>\n",
       "      <td>4</td>\n",
       "      <td>2.5</td>\n",
       "      <td>2545</td>\n",
       "      <td>0</td>\n",
       "      <td>0</td>\n",
       "      <td>0</td>\n",
       "      <td>0</td>\n",
       "      <td>0</td>\n",
       "      <td>0</td>\n",
       "      <td>0</td>\n",
       "      <td>1</td>\n",
       "      <td>1</td>\n",
       "    </tr>\n",
       "    <tr>\n",
       "      <th>3</th>\n",
       "      <td>2</td>\n",
       "      <td>2.0</td>\n",
       "      <td>898</td>\n",
       "      <td>0</td>\n",
       "      <td>0</td>\n",
       "      <td>0</td>\n",
       "      <td>0</td>\n",
       "      <td>0</td>\n",
       "      <td>0</td>\n",
       "      <td>1</td>\n",
       "      <td>0</td>\n",
       "      <td>0</td>\n",
       "    </tr>\n",
       "    <tr>\n",
       "      <th>4</th>\n",
       "      <td>2</td>\n",
       "      <td>2.0</td>\n",
       "      <td>1482</td>\n",
       "      <td>0</td>\n",
       "      <td>0</td>\n",
       "      <td>0</td>\n",
       "      <td>0</td>\n",
       "      <td>0</td>\n",
       "      <td>0</td>\n",
       "      <td>1</td>\n",
       "      <td>0</td>\n",
       "      <td>1</td>\n",
       "    </tr>\n",
       "    <tr>\n",
       "      <th>...</th>\n",
       "      <td>...</td>\n",
       "      <td>...</td>\n",
       "      <td>...</td>\n",
       "      <td>...</td>\n",
       "      <td>...</td>\n",
       "      <td>...</td>\n",
       "      <td>...</td>\n",
       "      <td>...</td>\n",
       "      <td>...</td>\n",
       "      <td>...</td>\n",
       "      <td>...</td>\n",
       "      <td>...</td>\n",
       "    </tr>\n",
       "    <tr>\n",
       "      <th>3352</th>\n",
       "      <td>1</td>\n",
       "      <td>1.0</td>\n",
       "      <td>400</td>\n",
       "      <td>0</td>\n",
       "      <td>0</td>\n",
       "      <td>0</td>\n",
       "      <td>0</td>\n",
       "      <td>0</td>\n",
       "      <td>0</td>\n",
       "      <td>1</td>\n",
       "      <td>0</td>\n",
       "      <td>0</td>\n",
       "    </tr>\n",
       "    <tr>\n",
       "      <th>3353</th>\n",
       "      <td>2</td>\n",
       "      <td>2.0</td>\n",
       "      <td>837</td>\n",
       "      <td>0</td>\n",
       "      <td>0</td>\n",
       "      <td>0</td>\n",
       "      <td>0</td>\n",
       "      <td>1</td>\n",
       "      <td>0</td>\n",
       "      <td>1</td>\n",
       "      <td>1</td>\n",
       "      <td>1</td>\n",
       "    </tr>\n",
       "    <tr>\n",
       "      <th>3354</th>\n",
       "      <td>3</td>\n",
       "      <td>2.0</td>\n",
       "      <td>1275</td>\n",
       "      <td>0</td>\n",
       "      <td>0</td>\n",
       "      <td>0</td>\n",
       "      <td>0</td>\n",
       "      <td>1</td>\n",
       "      <td>0</td>\n",
       "      <td>1</td>\n",
       "      <td>1</td>\n",
       "      <td>1</td>\n",
       "    </tr>\n",
       "    <tr>\n",
       "      <th>3357</th>\n",
       "      <td>3</td>\n",
       "      <td>2.5</td>\n",
       "      <td>1733</td>\n",
       "      <td>0</td>\n",
       "      <td>0</td>\n",
       "      <td>0</td>\n",
       "      <td>1</td>\n",
       "      <td>1</td>\n",
       "      <td>0</td>\n",
       "      <td>0</td>\n",
       "      <td>1</td>\n",
       "      <td>1</td>\n",
       "    </tr>\n",
       "    <tr>\n",
       "      <th>3358</th>\n",
       "      <td>2</td>\n",
       "      <td>2.5</td>\n",
       "      <td>3544</td>\n",
       "      <td>0</td>\n",
       "      <td>1</td>\n",
       "      <td>0</td>\n",
       "      <td>0</td>\n",
       "      <td>0</td>\n",
       "      <td>1</td>\n",
       "      <td>1</td>\n",
       "      <td>0</td>\n",
       "      <td>1</td>\n",
       "    </tr>\n",
       "  </tbody>\n",
       "</table>\n",
       "<p>3024 rows × 12 columns</p>\n",
       "</div>"
      ],
      "text/plain": [
       "      Beds  Bath  Sq.Ft  Place_0  Place_1  Place_2  Place_3  Place_4  Place_5  \\\n",
       "0        4   3.5   1813        0        0        0        0        0        0   \n",
       "1        2   2.0   1029        0        0        0        0        0        0   \n",
       "2        4   2.5   2545        0        0        0        0        0        0   \n",
       "3        2   2.0    898        0        0        0        0        0        0   \n",
       "4        2   2.0   1482        0        0        0        0        0        0   \n",
       "...    ...   ...    ...      ...      ...      ...      ...      ...      ...   \n",
       "3352     1   1.0    400        0        0        0        0        0        0   \n",
       "3353     2   2.0    837        0        0        0        0        1        0   \n",
       "3354     3   2.0   1275        0        0        0        0        1        0   \n",
       "3357     3   2.5   1733        0        0        0        1        1        0   \n",
       "3358     2   2.5   3544        0        1        0        0        0        1   \n",
       "\n",
       "      Place_6  Place_7  Place_8  \n",
       "0           0        0        1  \n",
       "1           0        1        0  \n",
       "2           0        1        1  \n",
       "3           1        0        0  \n",
       "4           1        0        1  \n",
       "...       ...      ...      ...  \n",
       "3352        1        0        0  \n",
       "3353        1        1        1  \n",
       "3354        1        1        1  \n",
       "3357        0        1        1  \n",
       "3358        1        0        1  \n",
       "\n",
       "[3024 rows x 12 columns]"
      ]
     },
     "execution_count": 26,
     "metadata": {},
     "output_type": "execute_result"
    }
   ],
   "source": [
    "X = data_encoded.drop(columns = ['Price'])\n",
    "y = data_encoded['Price']\n",
    "X"
   ]
  },
  {
   "cell_type": "code",
   "execution_count": 27,
   "id": "8a76454b",
   "metadata": {},
   "outputs": [],
   "source": [
    "X_train, X_test, y_train, y_test = train_test_split(X,y, test_size=0.2, random_state=0)"
   ]
  },
  {
   "cell_type": "code",
   "execution_count": 28,
   "id": "8fbf037a",
   "metadata": {},
   "outputs": [
    {
     "name": "stdout",
     "output_type": "stream",
     "text": [
      "(2419, 12)\n",
      "(605, 12)\n"
     ]
    }
   ],
   "source": [
    "print(X_train.shape)\n",
    "print(X_test.shape)"
   ]
  },
  {
   "cell_type": "markdown",
   "id": "fb61e77d",
   "metadata": {},
   "source": [
    "### Applying Linear Regression"
   ]
  },
  {
   "cell_type": "code",
   "execution_count": 31,
   "id": "6a40b9e1",
   "metadata": {},
   "outputs": [
    {
     "data": {
      "text/html": [
       "<style>#sk-container-id-1 {color: black;background-color: white;}#sk-container-id-1 pre{padding: 0;}#sk-container-id-1 div.sk-toggleable {background-color: white;}#sk-container-id-1 label.sk-toggleable__label {cursor: pointer;display: block;width: 100%;margin-bottom: 0;padding: 0.3em;box-sizing: border-box;text-align: center;}#sk-container-id-1 label.sk-toggleable__label-arrow:before {content: \"▸\";float: left;margin-right: 0.25em;color: #696969;}#sk-container-id-1 label.sk-toggleable__label-arrow:hover:before {color: black;}#sk-container-id-1 div.sk-estimator:hover label.sk-toggleable__label-arrow:before {color: black;}#sk-container-id-1 div.sk-toggleable__content {max-height: 0;max-width: 0;overflow: hidden;text-align: left;background-color: #f0f8ff;}#sk-container-id-1 div.sk-toggleable__content pre {margin: 0.2em;color: black;border-radius: 0.25em;background-color: #f0f8ff;}#sk-container-id-1 input.sk-toggleable__control:checked~div.sk-toggleable__content {max-height: 200px;max-width: 100%;overflow: auto;}#sk-container-id-1 input.sk-toggleable__control:checked~label.sk-toggleable__label-arrow:before {content: \"▾\";}#sk-container-id-1 div.sk-estimator input.sk-toggleable__control:checked~label.sk-toggleable__label {background-color: #d4ebff;}#sk-container-id-1 div.sk-label input.sk-toggleable__control:checked~label.sk-toggleable__label {background-color: #d4ebff;}#sk-container-id-1 input.sk-hidden--visually {border: 0;clip: rect(1px 1px 1px 1px);clip: rect(1px, 1px, 1px, 1px);height: 1px;margin: -1px;overflow: hidden;padding: 0;position: absolute;width: 1px;}#sk-container-id-1 div.sk-estimator {font-family: monospace;background-color: #f0f8ff;border: 1px dotted black;border-radius: 0.25em;box-sizing: border-box;margin-bottom: 0.5em;}#sk-container-id-1 div.sk-estimator:hover {background-color: #d4ebff;}#sk-container-id-1 div.sk-parallel-item::after {content: \"\";width: 100%;border-bottom: 1px solid gray;flex-grow: 1;}#sk-container-id-1 div.sk-label:hover label.sk-toggleable__label {background-color: #d4ebff;}#sk-container-id-1 div.sk-serial::before {content: \"\";position: absolute;border-left: 1px solid gray;box-sizing: border-box;top: 0;bottom: 0;left: 50%;z-index: 0;}#sk-container-id-1 div.sk-serial {display: flex;flex-direction: column;align-items: center;background-color: white;padding-right: 0.2em;padding-left: 0.2em;position: relative;}#sk-container-id-1 div.sk-item {position: relative;z-index: 1;}#sk-container-id-1 div.sk-parallel {display: flex;align-items: stretch;justify-content: center;background-color: white;position: relative;}#sk-container-id-1 div.sk-item::before, #sk-container-id-1 div.sk-parallel-item::before {content: \"\";position: absolute;border-left: 1px solid gray;box-sizing: border-box;top: 0;bottom: 0;left: 50%;z-index: -1;}#sk-container-id-1 div.sk-parallel-item {display: flex;flex-direction: column;z-index: 1;position: relative;background-color: white;}#sk-container-id-1 div.sk-parallel-item:first-child::after {align-self: flex-end;width: 50%;}#sk-container-id-1 div.sk-parallel-item:last-child::after {align-self: flex-start;width: 50%;}#sk-container-id-1 div.sk-parallel-item:only-child::after {width: 0;}#sk-container-id-1 div.sk-dashed-wrapped {border: 1px dashed gray;margin: 0 0.4em 0.5em 0.4em;box-sizing: border-box;padding-bottom: 0.4em;background-color: white;}#sk-container-id-1 div.sk-label label {font-family: monospace;font-weight: bold;display: inline-block;line-height: 1.2em;}#sk-container-id-1 div.sk-label-container {text-align: center;}#sk-container-id-1 div.sk-container {/* jupyter's `normalize.less` sets `[hidden] { display: none; }` but bootstrap.min.css set `[hidden] { display: none !important; }` so we also need the `!important` here to be able to override the default hidden behavior on the sphinx rendered scikit-learn.org. See: https://github.com/scikit-learn/scikit-learn/issues/21755 */display: inline-block !important;position: relative;}#sk-container-id-1 div.sk-text-repr-fallback {display: none;}</style><div id=\"sk-container-id-1\" class=\"sk-top-container\"><div class=\"sk-text-repr-fallback\"><pre>Pipeline(steps=[(&#x27;standardscaler&#x27;, StandardScaler()),\n",
       "                (&#x27;linearregression&#x27;, LinearRegression())])</pre><b>In a Jupyter environment, please rerun this cell to show the HTML representation or trust the notebook. <br />On GitHub, the HTML representation is unable to render, please try loading this page with nbviewer.org.</b></div><div class=\"sk-container\" hidden><div class=\"sk-item sk-dashed-wrapped\"><div class=\"sk-label-container\"><div class=\"sk-label sk-toggleable\"><input class=\"sk-toggleable__control sk-hidden--visually\" id=\"sk-estimator-id-1\" type=\"checkbox\" ><label for=\"sk-estimator-id-1\" class=\"sk-toggleable__label sk-toggleable__label-arrow\">Pipeline</label><div class=\"sk-toggleable__content\"><pre>Pipeline(steps=[(&#x27;standardscaler&#x27;, StandardScaler()),\n",
       "                (&#x27;linearregression&#x27;, LinearRegression())])</pre></div></div></div><div class=\"sk-serial\"><div class=\"sk-item\"><div class=\"sk-estimator sk-toggleable\"><input class=\"sk-toggleable__control sk-hidden--visually\" id=\"sk-estimator-id-2\" type=\"checkbox\" ><label for=\"sk-estimator-id-2\" class=\"sk-toggleable__label sk-toggleable__label-arrow\">StandardScaler</label><div class=\"sk-toggleable__content\"><pre>StandardScaler()</pre></div></div></div><div class=\"sk-item\"><div class=\"sk-estimator sk-toggleable\"><input class=\"sk-toggleable__control sk-hidden--visually\" id=\"sk-estimator-id-3\" type=\"checkbox\" ><label for=\"sk-estimator-id-3\" class=\"sk-toggleable__label sk-toggleable__label-arrow\">LinearRegression</label><div class=\"sk-toggleable__content\"><pre>LinearRegression()</pre></div></div></div></div></div></div></div>"
      ],
      "text/plain": [
       "Pipeline(steps=[('standardscaler', StandardScaler()),\n",
       "                ('linearregression', LinearRegression())])"
      ]
     },
     "execution_count": 31,
     "metadata": {},
     "output_type": "execute_result"
    }
   ],
   "source": [
    "lr_model = make_pipeline(StandardScaler(), LinearRegression())\n",
    "lr_model.fit(X_train, y_train)"
   ]
  },
  {
   "cell_type": "code",
   "execution_count": 32,
   "id": "a36995a9",
   "metadata": {},
   "outputs": [
    {
     "data": {
      "text/plain": [
       "0.5284144969595376"
      ]
     },
     "execution_count": 32,
     "metadata": {},
     "output_type": "execute_result"
    }
   ],
   "source": [
    "lr_model.score(X_test,y_test)"
   ]
  },
  {
   "cell_type": "code",
   "execution_count": 33,
   "id": "24b020ae",
   "metadata": {},
   "outputs": [],
   "source": [
    "y_pred = lr_model.predict(X_test)"
   ]
  },
  {
   "cell_type": "code",
   "execution_count": 35,
   "id": "96e03848",
   "metadata": {},
   "outputs": [
    {
     "data": {
      "text/plain": [
       "52.841449695953756"
      ]
     },
     "execution_count": 35,
     "metadata": {},
     "output_type": "execute_result"
    }
   ],
   "source": [
    "r2_score(y_test,y_pred)*100"
   ]
  },
  {
   "cell_type": "markdown",
   "id": "84a35a2f",
   "metadata": {},
   "source": [
    "### Applying Polynomial Regression"
   ]
  },
  {
   "cell_type": "code",
   "execution_count": 45,
   "id": "d1467794",
   "metadata": {},
   "outputs": [],
   "source": [
    "from sklearn.preprocessing import PolynomialFeatures\n",
    "#applying polynomial regression degree 2\n",
    "poly = PolynomialFeatures(degree=2, include_bias=True)\n",
    "x_train_trans = poly.fit_transform(X_train)\n",
    "x_test_trans = poly.transform(X_test)"
   ]
  },
  {
   "cell_type": "code",
   "execution_count": 46,
   "id": "02e9f5a1",
   "metadata": {},
   "outputs": [
    {
     "name": "stdout",
     "output_type": "stream",
     "text": [
      "0.6541355303573545\n"
     ]
    }
   ],
   "source": [
    "lr = LinearRegression()\n",
    "lr.fit(x_train_trans, y_train)\n",
    "y_pred = lr.predict(x_test_trans)\n",
    "print(r2_score(y_test, y_pred))"
   ]
  },
  {
   "cell_type": "markdown",
   "id": "4ed93845",
   "metadata": {},
   "source": [
    "### Applying Random Forest Regression"
   ]
  },
  {
   "cell_type": "code",
   "execution_count": 39,
   "id": "7606dad3",
   "metadata": {},
   "outputs": [
    {
     "name": "stdout",
     "output_type": "stream",
     "text": [
      "Feature ranking:\n",
      "1. Feature 2 (Sq.Ft): 0.8146959968506905\n",
      "2. Feature 0 (Beds): 0.04857941156496018\n",
      "3. Feature 1 (Bath): 0.03464640842567055\n",
      "4. Feature 4 (Place_1): 0.015591783490740368\n",
      "5. Feature 11 (Place_8): 0.013577323565607887\n",
      "6. Feature 10 (Place_7): 0.012616019534226437\n",
      "7. Feature 5 (Place_2): 0.012504217979985\n",
      "8. Feature 8 (Place_5): 0.012449431553155164\n",
      "9. Feature 7 (Place_4): 0.012004438168346345\n",
      "10. Feature 6 (Place_3): 0.011472659362298606\n",
      "11. Feature 9 (Place_6): 0.011146504690110828\n",
      "12. Feature 3 (Place_0): 0.0007158048142080821\n"
     ]
    },
    {
     "data": {
      "image/png": "[encoded data removed]",
      "text/plain": [
       "<Figure size 640x480 with 1 Axes>"
      ]
     },
     "metadata": {},
     "output_type": "display_data"
    }
   ],
   "source": [
    "from sklearn.ensemble import RandomForestRegressor\n",
    "\n",
    "# Instantiate the model\n",
    "model = RandomForestRegressor()\n",
    "\n",
    "# Train the model\n",
    "model.fit(X_train, y_train)\n",
    "\n",
    "# Get feature importances\n",
    "importances = model.feature_importances_\n",
    "\n",
    "# Sort feature importances in descending order\n",
    "indices = np.argsort(importances)[::-1]\n",
    "\n",
    "# Print feature ranking\n",
    "print(\"Feature ranking:\")\n",
    "for f in range(X.shape[1]):\n",
    "    print(f\"{f + 1}. Feature {indices[f]} ({X.columns[indices[f]]}): {importances[indices[f]]}\")\n",
    "\n",
    "# Plot feature importances\n",
    "plt.figure()\n",
    "plt.title(\"Feature importances\")\n",
    "plt.bar(range(X.shape[1]), importances[indices], color=\"r\", align=\"center\")\n",
    "plt.xticks(range(X.shape[1]), indices)\n",
    "plt.xlim([-1, X.shape[1]])\n",
    "plt.show()\n"
   ]
  },
  {
   "cell_type": "code",
   "execution_count": 48,
   "id": "0322e2b7",
   "metadata": {},
   "outputs": [
    {
     "data": {
      "text/plain": [
       "62.05529060246431"
      ]
     },
     "execution_count": 48,
     "metadata": {},
     "output_type": "execute_result"
    }
   ],
   "source": [
    "# Initialize and train the Random Forest Regression model\n",
    "rf_model = RandomForestRegressor(n_estimators=100, random_state=0)\n",
    "rf_model.fit(X_train, y_train)\n",
    "y_pred_rf = rf_model.predict(X_test)\n",
    "r2_score(y_test, y_pred_rf)*100"
   ]
  }
 ],
 "metadata": {
  "kernelspec": {
   "display_name": "Python 3 (ipykernel)",
   "language": "python",
   "name": "python3"
  },
  "language_info": {
   "codemirror_mode": {
    "name": "ipython",
    "version": 3
   },
   "file_extension": ".py",
   "mimetype": "text/x-python",
   "name": "python",
   "nbconvert_exporter": "python",
   "pygments_lexer": "ipython3",
   "version": "3.10.9"
  }
 },
 "nbformat": 4,
 "nbformat_minor": 5
}
